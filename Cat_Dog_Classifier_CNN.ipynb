{
 "cells": [
  {
   "cell_type": "code",
   "execution_count": 1,
   "metadata": {
    "ExecuteTime": {
     "end_time": "2020-07-06T19:04:06.983543Z",
     "start_time": "2020-07-06T19:04:06.981128Z"
    }
   },
   "outputs": [],
   "source": [
    "train_dir = 'your_path/cats_and_dogs_small/train'\n",
    "test_dir = 'your_path/cats_and_dogs_small/test'\n",
    "validation_dir = 'your_path/cats_and_dogs_small/validation'"
   ]
  },
  {
   "cell_type": "code",
   "execution_count": 2,
   "metadata": {
    "ExecuteTime": {
     "end_time": "2020-06-15T09:12:54.226227Z",
     "start_time": "2020-06-15T09:12:50.416555Z"
    }
   },
   "outputs": [],
   "source": [
    "from tensorflow.keras.preprocessing.image import ImageDataGenerator"
   ]
  },
  {
   "cell_type": "code",
   "execution_count": 3,
   "metadata": {
    "ExecuteTime": {
     "end_time": "2020-06-14T12:46:46.625088Z",
     "start_time": "2020-06-14T12:46:46.622001Z"
    }
   },
   "outputs": [],
   "source": [
    "train_gen = ImageDataGenerator(rescale=1./255)\n",
    "val_gen = ImageDataGenerator(rescale=1./255)"
   ]
  },
  {
   "cell_type": "code",
   "execution_count": 4,
   "metadata": {
    "ExecuteTime": {
     "end_time": "2020-06-14T12:46:46.872889Z",
     "start_time": "2020-06-14T12:46:46.626487Z"
    }
   },
   "outputs": [
    {
     "name": "stdout",
     "output_type": "stream",
     "text": [
      "Found 2000 images belonging to 2 classes.\n",
      "Found 1000 images belonging to 2 classes.\n"
     ]
    }
   ],
   "source": [
    "train_generator = train_gen.flow_from_directory(\n",
    "    train_dir,\n",
    "    batch_size=20,\n",
    "    target_size=(150,150),\n",
    "    class_mode='binary'\n",
    ")\n",
    "\n",
    "val_generator = val_gen.flow_from_directory(\n",
    "    validation_dir,\n",
    "    batch_size=20,\n",
    "    target_size=(150,150),\n",
    "    class_mode='binary'\n",
    ")"
   ]
  },
  {
   "cell_type": "code",
   "execution_count": 8,
   "metadata": {
    "ExecuteTime": {
     "end_time": "2020-06-15T09:21:21.696598Z",
     "start_time": "2020-06-15T09:21:21.693998Z"
    }
   },
   "outputs": [],
   "source": [
    "from tensorflow.keras import layers,models\n",
    "import tensorflow as tf"
   ]
  },
  {
   "cell_type": "code",
   "execution_count": 19,
   "metadata": {
    "ExecuteTime": {
     "end_time": "2020-06-14T12:51:02.219515Z",
     "start_time": "2020-06-14T12:51:02.038796Z"
    }
   },
   "outputs": [],
   "source": [
    "conv_model = models.Sequential()\n",
    "\n",
    "conv_model.add(layers.Conv2D(filters=32, kernel_size=(3,3), activation='relu', input_shape = (150,150,3)))\n",
    "conv_model.add(layers.MaxPool2D((2,2)))\n",
    "\n",
    "conv_model.add(layers.Conv2D(filters=64, kernel_size=(3,3), activation='relu'))\n",
    "conv_model.add(layers.MaxPool2D((2,2)))\n",
    "\n",
    "conv_model.add(layers.Conv2D(filters=128, kernel_size=(3,3), activation='relu'))\n",
    "conv_model.add(layers.MaxPool2D((2,2)))\n",
    "\n",
    "conv_model.add(layers.Conv2D(filters=128, kernel_size=(3,3), activation='relu'))\n",
    "conv_model.add(layers.MaxPool2D((2,2)))\n",
    "\n",
    "conv_model.add(layers.Flatten())\n",
    "conv_model.add(layers.Dense(512, activation='relu'))\n",
    "conv_model.add(layers.Dense(1,activation='sigmoid'))"
   ]
  },
  {
   "cell_type": "code",
   "execution_count": 20,
   "metadata": {
    "ExecuteTime": {
     "end_time": "2020-06-14T12:51:05.350665Z",
     "start_time": "2020-06-14T12:51:05.324218Z"
    }
   },
   "outputs": [
    {
     "name": "stdout",
     "output_type": "stream",
     "text": [
      "Model: \"sequential_2\"\n",
      "_________________________________________________________________\n",
      "Layer (type)                 Output Shape              Param #   \n",
      "=================================================================\n",
      "conv2d_8 (Conv2D)            (None, 148, 148, 32)      896       \n",
      "_________________________________________________________________\n",
      "max_pooling2d_8 (MaxPooling2 (None, 74, 74, 32)        0         \n",
      "_________________________________________________________________\n",
      "conv2d_9 (Conv2D)            (None, 72, 72, 64)        18496     \n",
      "_________________________________________________________________\n",
      "max_pooling2d_9 (MaxPooling2 (None, 36, 36, 64)        0         \n",
      "_________________________________________________________________\n",
      "conv2d_10 (Conv2D)           (None, 34, 34, 128)       73856     \n",
      "_________________________________________________________________\n",
      "max_pooling2d_10 (MaxPooling (None, 17, 17, 128)       0         \n",
      "_________________________________________________________________\n",
      "conv2d_11 (Conv2D)           (None, 15, 15, 128)       147584    \n",
      "_________________________________________________________________\n",
      "max_pooling2d_11 (MaxPooling (None, 7, 7, 128)         0         \n",
      "_________________________________________________________________\n",
      "flatten_1 (Flatten)          (None, 6272)              0         \n",
      "_________________________________________________________________\n",
      "dense_2 (Dense)              (None, 512)               3211776   \n",
      "_________________________________________________________________\n",
      "dense_3 (Dense)              (None, 1)                 513       \n",
      "=================================================================\n",
      "Total params: 3,453,121\n",
      "Trainable params: 3,453,121\n",
      "Non-trainable params: 0\n",
      "_________________________________________________________________\n"
     ]
    }
   ],
   "source": [
    "conv_model.summary()"
   ]
  },
  {
   "cell_type": "code",
   "execution_count": 23,
   "metadata": {
    "ExecuteTime": {
     "end_time": "2020-06-14T12:51:57.418980Z",
     "start_time": "2020-06-14T12:51:57.406827Z"
    }
   },
   "outputs": [],
   "source": [
    "conv_model.compile(loss=tf.keras.losses.binary_crossentropy, optimizer=tf.keras.optimizers.RMSprop(lr=1e-4), metrics=['acc'])"
   ]
  },
  {
   "cell_type": "code",
   "execution_count": 30,
   "metadata": {
    "ExecuteTime": {
     "end_time": "2020-06-14T13:04:56.164904Z",
     "start_time": "2020-06-14T12:59:49.643034Z"
    }
   },
   "outputs": [
    {
     "name": "stdout",
     "output_type": "stream",
     "text": [
      "Epoch 1/5\n",
      "100/100 [==============================] - 54s 536ms/step - loss: 0.5082 - acc: 0.7375 - val_loss: 0.5649 - val_acc: 0.7040\n",
      "Epoch 2/5\n",
      "100/100 [==============================] - 62s 624ms/step - loss: 0.4892 - acc: 0.7635 - val_loss: 0.5974 - val_acc: 0.6970\n",
      "Epoch 3/5\n",
      "100/100 [==============================] - 63s 632ms/step - loss: 0.4478 - acc: 0.7805 - val_loss: 0.6842 - val_acc: 0.6460\n",
      "Epoch 4/5\n",
      "100/100 [==============================] - 63s 632ms/step - loss: 0.4291 - acc: 0.7980 - val_loss: 0.5499 - val_acc: 0.7300\n",
      "Epoch 5/5\n",
      "100/100 [==============================] - 61s 613ms/step - loss: 0.4081 - acc: 0.8115 - val_loss: 0.5401 - val_acc: 0.7420\n"
     ]
    }
   ],
   "source": [
    "model_history = conv_model.fit_generator(\n",
    "    train_generator,\n",
    "    steps_per_epoch=100,#this is no. of train examp. divided by batch size for training data \n",
    "    epochs=5,\n",
    "    validation_data=val_generator,#this is no. of train examp. divided by batch size for validation data\n",
    "    validation_steps=50\n",
    ")"
   ]
  },
  {
   "cell_type": "code",
   "execution_count": 31,
   "metadata": {
    "ExecuteTime": {
     "end_time": "2020-06-14T13:04:56.511119Z",
     "start_time": "2020-06-14T13:04:56.167268Z"
    }
   },
   "outputs": [
    {
     "data": {
      "image/png": "[encoded data removed]",
      "text/plain": [
       "<Figure size 720x720 with 1 Axes>"
      ]
     },
     "metadata": {},
     "output_type": "display_data"
    }
   ],
   "source": [
    "import pandas as pd\n",
    "import seaborn as sns\n",
    "import matplotlib.pyplot as plt\n",
    "sns.set_style('ticks')\n",
    "pd.DataFrame(model_history.history).plot(figsize=(10,10))\n",
    "plt.grid(True)\n",
    "plt.gca().set_ylim(0,1)\n",
    "plt.show()"
   ]
  },
  {
   "cell_type": "code",
   "execution_count": null,
   "metadata": {},
   "outputs": [],
   "source": [
    "# conv_model.save('conv_')"
   ]
  },
  {
   "cell_type": "markdown",
   "metadata": {
    "ExecuteTime": {
     "end_time": "2020-06-15T09:13:41.809007Z",
     "start_time": "2020-06-15T09:13:41.806107Z"
    }
   },
   "source": [
    "<h3>Here i will use only the imported libs and the dir path from above model</h3>"
   ]
  },
  {
   "cell_type": "code",
   "execution_count": 13,
   "metadata": {
    "ExecuteTime": {
     "end_time": "2020-06-15T09:23:32.482854Z",
     "start_time": "2020-06-15T09:23:32.478652Z"
    }
   },
   "outputs": [],
   "source": [
    "train_data_gen = ImageDataGenerator(\n",
    "    rescale=1./255,\n",
    "    rotation_range=40,\n",
    "    width_shift_range=0.2,\n",
    "    height_shift_range=0.2,\n",
    "    shear_range=0.2,\n",
    "    zoom_range=-0.2,\n",
    "    horizontal_flip=True\n",
    ")\n",
    "\n",
    "val_data_gen = ImageDataGenerator(rescale=1./255)"
   ]
  },
  {
   "cell_type": "code",
   "execution_count": 26,
   "metadata": {
    "ExecuteTime": {
     "end_time": "2020-06-15T10:22:41.848887Z",
     "start_time": "2020-06-15T10:22:41.620313Z"
    }
   },
   "outputs": [
    {
     "name": "stdout",
     "output_type": "stream",
     "text": [
      "Found 2000 images belonging to 2 classes.\n",
      "Found 1000 images belonging to 2 classes.\n"
     ]
    }
   ],
   "source": [
    "train_gen_1 = train_data_gen.flow_from_directory(\n",
    "    train_dir,\n",
    "    target_size=(150,150),\n",
    "    batch_size=32,\n",
    "    class_mode='binary'\n",
    ")\n",
    "\n",
    "val_gen_1 = val_data_gen.flow_from_directory(\n",
    "    validation_dir,\n",
    "    target_size=(150,150),\n",
    "    batch_size=32,\n",
    "    class_mode='binary'\n",
    ")"
   ]
  },
  {
   "cell_type": "code",
   "execution_count": 27,
   "metadata": {
    "ExecuteTime": {
     "end_time": "2020-06-15T10:22:45.107423Z",
     "start_time": "2020-06-15T10:22:44.990591Z"
    }
   },
   "outputs": [],
   "source": [
    "conv_model1 = models.Sequential()\n",
    "\n",
    "conv_model1.add(layers.Conv2D(filters=32, kernel_size=(3,3), activation='relu', input_shape = (150,150,3)))\n",
    "conv_model1.add(layers.MaxPool2D((2,2)))\n",
    "\n",
    "conv_model1.add(layers.Conv2D(filters=64, kernel_size=(3,3), activation='relu'))\n",
    "conv_model1.add(layers.MaxPool2D((2,2)))\n",
    "\n",
    "conv_model1.add(layers.Conv2D(filters=128, kernel_size=(3,3), activation='relu'))\n",
    "conv_model1.add(layers.MaxPool2D((2,2)))\n",
    "\n",
    "conv_model1.add(layers.Conv2D(filters=128, kernel_size=(3,3), activation='relu'))\n",
    "conv_model1.add(layers.MaxPool2D((2,2)))\n",
    "\n",
    "conv_model1.add(layers.Flatten())\n",
    "conv_model1.add(layers.Dropout(0.5))\n",
    "conv_model1.add(layers.Dense(512, activation='relu'))\n",
    "conv_model1.add(layers.Dense(1,activation='sigmoid'))"
   ]
  },
  {
   "cell_type": "code",
   "execution_count": 28,
   "metadata": {
    "ExecuteTime": {
     "end_time": "2020-06-15T10:22:46.451210Z",
     "start_time": "2020-06-15T10:22:46.422650Z"
    }
   },
   "outputs": [],
   "source": [
    "conv_model1.compile(loss=tf.keras.losses.binary_crossentropy, optimizer=tf.keras.optimizers.RMSprop(lr=1e-4), metrics=['acc'])"
   ]
  },
  {
   "cell_type": "code",
   "execution_count": 29,
   "metadata": {
    "ExecuteTime": {
     "end_time": "2020-06-15T10:25:50.012134Z",
     "start_time": "2020-06-15T10:22:49.935631Z"
    }
   },
   "outputs": [
    {
     "name": "stdout",
     "output_type": "stream",
     "text": [
      "Epoch 1/2\n",
      "100/100 [==============================] - 87s 866ms/step - loss: 0.6922 - acc: 0.5276 - val_loss: 0.6748 - val_acc: 0.5736\n",
      "Epoch 2/2\n",
      "100/100 [==============================] - 91s 906ms/step - loss: 0.6769 - acc: 0.5634 - val_loss: 0.6619 - val_acc: 0.5838\n"
     ]
    }
   ],
   "source": [
    "model_history1 = conv_model1.fit_generator(\n",
    "    train_gen_1,\n",
    "    steps_per_epoch=100,#this is no. of train examp. divided by batch size for training data \n",
    "    epochs=2,\n",
    "    validation_data=val_gen_1,#this is no. of train examp. divided by batch size for validation data\n",
    "    validation_steps=50\n",
    ")"
   ]
  },
  {
   "cell_type": "code",
   "execution_count": 30,
   "metadata": {
    "ExecuteTime": {
     "end_time": "2020-06-15T10:25:50.348613Z",
     "start_time": "2020-06-15T10:25:50.015406Z"
    }
   },
   "outputs": [
    {
     "data": {
      "image/png": "[encoded data removed]",
      "text/plain": [
       "<Figure size 720x720 with 1 Axes>"
      ]
     },
     "metadata": {},
     "output_type": "display_data"
    }
   ],
   "source": [
    "import pandas as pd\n",
    "import seaborn as sns\n",
    "import matplotlib.pyplot as plt\n",
    "sns.set_style('ticks')\n",
    "pd.DataFrame(model_history1.history).plot(figsize=(10,10))\n",
    "plt.grid(True)\n",
    "plt.gca().set_ylim(0,1)\n",
    "plt.show()"
   ]
  },
  {
   "cell_type": "code",
   "execution_count": 25,
   "metadata": {
    "ExecuteTime": {
     "end_time": "2020-06-15T10:18:51.790603Z",
     "start_time": "2020-06-15T10:18:51.747961Z"
    }
   },
   "outputs": [],
   "source": [
    "# conv_model1.save('dogcat_cnn_dataAugment.h5')"
   ]
  },
  {
   "cell_type": "code",
   "execution_count": null,
   "metadata": {},
   "outputs": [],
   "source": [
    "test_data_gen = ImageDataGenerator(rescale=1./255)\n",
    "test_gen = test_data_gen.flow_from_directory(\n",
    "    test_dir,\n",
    "    target_size=(150,150),\n",
    "    batch_size=32,\n",
    "    class_mode='binary'\n",
    ")\n",
    "conv_model1.evaluate()"
   ]
  }
 ],
 "metadata": {
  "kernelspec": {
   "display_name": "Python 3",
   "language": "python",
   "name": "python3"
  },
  "language_info": {
   "codemirror_mode": {
    "name": "ipython",
    "version": 3
   },
   "file_extension": ".py",
   "mimetype": "text/x-python",
   "name": "python",
   "nbconvert_exporter": "python",
   "pygments_lexer": "ipython3",
   "version": "3.7.7"
  }
 },
 "nbformat": 4,
 "nbformat_minor": 4
}
